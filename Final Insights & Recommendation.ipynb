{
 "cells": [
  {
   "cell_type": "markdown",
   "id": "ef6159e5",
   "metadata": {},
   "source": [
    "### **Note :-** I have already covered column wise insights in the project but here I have written only the final insights"
   ]
  },
  {
   "cell_type": "markdown",
   "id": "6ea227e2",
   "metadata": {},
   "source": [
    "## Insights:-"
   ]
  },
  {
   "cell_type": "markdown",
   "id": "887ae1a5",
   "metadata": {},
   "source": [
    "* Based on the exploratory data analysis (EDA), we observed that the mobile phones in the dataset are divided into four different price ranges, each having a similar number of elements.\n",
    "* Additionally, we found that approximately half of the devices have Bluetooth, while the other half do not.\n",
    "*  Furthermore, we noted that as the price range increases, there is a gradual increase in battery power, and RAM shows continuous growth from low-cost to very high-cost phones. \n",
    "* Moreover, the costly phones tend to be lighter than the lower-priced ones.  \n",
    "\n",
    "\n",
    "Our analysis indicates that RAM, battery power, and pixel quality are the most significant factors affecting the price range of mobile phones. From our experiments, we concluded that logistic regression and XGBoost algorithms with hyperparameter tuning yielded the best results in predicting the price range of mobile phones."
   ]
  },
  {
   "cell_type": "markdown",
   "id": "59458a2a",
   "metadata": {},
   "source": [
    "* In summary, the EDA revealed that the dataset consists of mobile phones grouped into four price ranges, with similar numbers of devices in each range, and a 50-50 distribution of Bluetooth.\n",
    "\n",
    "* We also observed that RAM and battery power increase with the price range, and higher-priced phones tend to be lighter.\n",
    "* Our experiments suggest that the most important factors affecting the price range of mobile phones are RAM, battery power, and pixel quality.\n",
    "\n",
    "Finally, we found that logistic regression and XGBoost algorithms, coupled with hyperparameter tuning, provide the best performance in predicting the price range of mobile phones."
   ]
  },
  {
   "cell_type": "markdown",
   "id": "e9df3b82",
   "metadata": {},
   "source": [
    "## Recommendation"
   ]
  },
  {
   "cell_type": "markdown",
   "id": "2c228851",
   "metadata": {},
   "source": [
    "**Focus on RAM for Better Performance:**\n",
    "Since RAM plays a crucial role in price range, mobile manufacturers should consider offering more RAM in budget-friendly models to make them more competitive.\n",
    "\n",
    "**Optimize Battery Power:**\n",
    "Higher battery power is linked to expensive models. Companies should focus on improving battery life across all price ranges to attract more customers.\n",
    "\n",
    "**Improve Camera Quality:**\n",
    "Pixel quality is an important factor in pricing. Enhancing camera features, even in mid-range phones, can make them more appealing to buyers.\n",
    "\n",
    "**Offer Lighter High-End Phones:**\n",
    "Since expensive phones tend to be lighter, manufacturers should focus on using lightweight but durable materials to maintain this trend while ensuring strength.\n",
    "\n",
    "**Provide Bluetooth in All Models:**\n",
    "Since Bluetooth is evenly distributed across devices, manufacturers should ensure Bluetooth availability in all phones to avoid limiting customer choices.\n",
    "\n",
    "**Use Machine Learning for Pricing Strategy:**\n",
    "Since logistic regression and XGBoost performed best in predicting price categories, companies can use these models to analyze market trends and set competitive prices for new mobile launches."
   ]
  },
  {
   "cell_type": "markdown",
   "id": "3f7a99d3",
   "metadata": {},
   "source": [
    "#                                             See You!"
   ]
  }
 ],
 "metadata": {
  "kernelspec": {
   "display_name": "Python 3 (ipykernel)",
   "language": "python",
   "name": "python3"
  },
  "language_info": {
   "codemirror_mode": {
    "name": "ipython",
    "version": 3
   },
   "file_extension": ".py",
   "mimetype": "text/x-python",
   "name": "python",
   "nbconvert_exporter": "python",
   "pygments_lexer": "ipython3",
   "version": "3.11.5"
  }
 },
 "nbformat": 4,
 "nbformat_minor": 5
}
